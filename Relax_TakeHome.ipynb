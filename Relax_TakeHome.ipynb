{
 "cells": [
  {
   "cell_type": "code",
   "execution_count": 1,
   "id": "3c9a5b3f",
   "metadata": {},
   "outputs": [],
   "source": [
    "import pandas as pd\n",
    "import csv\n",
    "import chardet\n",
    "import datetime\n",
    "import numpy as np\n",
    "from collections import Counter\n",
    "from numpy import where\n",
    "import matplotlib.pyplot as plt\n",
    "from sklearn.svm import SVC, OneClassSVM\n",
    "from sklearn.pipeline import make_pipeline\n",
    "from sklearn.datasets import make_classification\n",
    "from sklearn.ensemble import RandomForestClassifier\n",
    "from sklearn.model_selection import train_test_split\n",
    "from sklearn.metrics import confusion_matrix, classification_report, f1_score\n",
    "from sklearn.model_selection import cross_val_score\n",
    "import sklearn.metrics\n",
    "import sklearn.ensemble\n",
    "from sklearn.tree import export_graphviz\n"
   ]
  },
  {
   "cell_type": "markdown",
   "id": "b7203699",
   "metadata": {},
   "source": [
    "I had trouble with reading one of the provided csv files. It seems that we need to specify the encoding. Using a function to detect the encoding, we proceed. "
   ]
  },
  {
   "cell_type": "code",
   "execution_count": 2,
   "id": "5e82299d",
   "metadata": {},
   "outputs": [],
   "source": [
    "def predict_encoding(file_path, n_lines=20):\n",
    "    '''Predict a file's encoding using chardet'''\n",
    "\n",
    "    # Open the file as binary data\n",
    "    with open(file_path, 'rb') as f:\n",
    "        # Join binary lines for specified number of lines\n",
    "        rawdata = b''.join([f.readline() for _ in range(n_lines)])\n",
    "\n",
    "    return chardet.detect(rawdata)['encoding']\n"
   ]
  },
  {
   "cell_type": "code",
   "execution_count": 3,
   "id": "69486b27",
   "metadata": {},
   "outputs": [
    {
     "data": {
      "text/plain": [
       "'ISO-8859-1'"
      ]
     },
     "execution_count": 3,
     "metadata": {},
     "output_type": "execute_result"
    }
   ],
   "source": [
    "predict_encoding('takehome_users.csv', n_lines = 200000)"
   ]
  },
  {
   "cell_type": "markdown",
   "id": "ecb8ef22",
   "metadata": {},
   "source": [
    "Add pass the encoding to the pd.read_csv API. "
   ]
  },
  {
   "cell_type": "code",
   "execution_count": 4,
   "id": "cf38dad5",
   "metadata": {},
   "outputs": [
    {
     "data": {
      "text/html": [
       "<div>\n",
       "<style scoped>\n",
       "    .dataframe tbody tr th:only-of-type {\n",
       "        vertical-align: middle;\n",
       "    }\n",
       "\n",
       "    .dataframe tbody tr th {\n",
       "        vertical-align: top;\n",
       "    }\n",
       "\n",
       "    .dataframe thead th {\n",
       "        text-align: right;\n",
       "    }\n",
       "</style>\n",
       "<table border=\"1\" class=\"dataframe\">\n",
       "  <thead>\n",
       "    <tr style=\"text-align: right;\">\n",
       "      <th></th>\n",
       "      <th>object_id</th>\n",
       "      <th>creation_time</th>\n",
       "      <th>name</th>\n",
       "      <th>email</th>\n",
       "      <th>creation_source</th>\n",
       "      <th>last_session_creation_time</th>\n",
       "      <th>opted_in_to_mailing_list</th>\n",
       "      <th>enabled_for_marketing_drip</th>\n",
       "      <th>org_id</th>\n",
       "      <th>invited_by_user_id</th>\n",
       "    </tr>\n",
       "  </thead>\n",
       "  <tbody>\n",
       "    <tr>\n",
       "      <th>0</th>\n",
       "      <td>1</td>\n",
       "      <td>2014-04-22 03:53:30</td>\n",
       "      <td>Clausen August</td>\n",
       "      <td>AugustCClausen@yahoo.com</td>\n",
       "      <td>GUEST_INVITE</td>\n",
       "      <td>1.398139e+09</td>\n",
       "      <td>1</td>\n",
       "      <td>0</td>\n",
       "      <td>11</td>\n",
       "      <td>10803.0</td>\n",
       "    </tr>\n",
       "    <tr>\n",
       "      <th>1</th>\n",
       "      <td>2</td>\n",
       "      <td>2013-11-15 03:45:04</td>\n",
       "      <td>Poole Matthew</td>\n",
       "      <td>MatthewPoole@gustr.com</td>\n",
       "      <td>ORG_INVITE</td>\n",
       "      <td>1.396238e+09</td>\n",
       "      <td>0</td>\n",
       "      <td>0</td>\n",
       "      <td>1</td>\n",
       "      <td>316.0</td>\n",
       "    </tr>\n",
       "  </tbody>\n",
       "</table>\n",
       "</div>"
      ],
      "text/plain": [
       "   object_id        creation_time            name                     email  \\\n",
       "0          1  2014-04-22 03:53:30  Clausen August  AugustCClausen@yahoo.com   \n",
       "1          2  2013-11-15 03:45:04   Poole Matthew    MatthewPoole@gustr.com   \n",
       "\n",
       "  creation_source  last_session_creation_time  opted_in_to_mailing_list  \\\n",
       "0    GUEST_INVITE                1.398139e+09                         1   \n",
       "1      ORG_INVITE                1.396238e+09                         0   \n",
       "\n",
       "   enabled_for_marketing_drip  org_id  invited_by_user_id  \n",
       "0                           0      11             10803.0  \n",
       "1                           0       1               316.0  "
      ]
     },
     "execution_count": 4,
     "metadata": {},
     "output_type": "execute_result"
    }
   ],
   "source": [
    "df_users = pd.read_csv('takehome_users.csv', encoding = \"ISO-8859-1\")\n",
    "df_users.head(2)"
   ]
  },
  {
   "cell_type": "markdown",
   "id": "ebd7ead9",
   "metadata": {},
   "source": [
    "According to the documentation, df_users contains the following:\n",
    "\n",
    "object_id: a unique user's id\n",
    "\n",
    "creation_time: when they created their account\n",
    "\n",
    "name: the user's name\n",
    "\n",
    "email: the user's email address\n",
    "\n",
    "creation_source: This contains information about how their account was created and contains one of five values:\n",
    "\n",
    "    PERSONAL_PROJECTS: invited to join another user's personal workspace; \n",
    "    GUEST_INVITE: invited to an organization as a guest (limited permissions);\n",
    "    ORG_INVITE: invited to an organization (as a full member);\n",
    "    SIGNUP: signed up via the website;\n",
    "    SIGNUP_GOOGLE_AUTH: signed up using Google Authentication (using a Google email account for their login id)\n",
    "\n",
    "last_session_creation_time: UNIX timestamp of their last login\n",
    "\n",
    "opted_in_to_mailing_list: whether they have opted into receiving marketing  emails\n",
    "\n",
    "enabled_for_marketing_drip: whether they are on the regular marketing email drip\n",
    "\n",
    "org_id: the organization (group of users) they belong to\n",
    "\n",
    "invited_by_user_id: which user invited them to join (if applicable.)\n"
   ]
  },
  {
   "cell_type": "code",
   "execution_count": 5,
   "id": "97b9a1c4",
   "metadata": {},
   "outputs": [
    {
     "data": {
      "text/plain": [
       "Index(['user_id', 'creation_time', 'name', 'email', 'creation_source',\n",
       "       'last_session_creation_time', 'opted_in_to_mailing_list',\n",
       "       'enabled_for_marketing_drip', 'org_id', 'invited_by_user_id'],\n",
       "      dtype='object')"
      ]
     },
     "execution_count": 5,
     "metadata": {},
     "output_type": "execute_result"
    }
   ],
   "source": [
    "df_users.rename(columns={'object_id':'user_id'}, inplace=True)\n",
    "df_users.columns"
   ]
  },
  {
   "cell_type": "code",
   "execution_count": 6,
   "id": "c8081ffb",
   "metadata": {},
   "outputs": [
    {
     "name": "stdout",
     "output_type": "stream",
     "text": [
      "<class 'pandas.core.frame.DataFrame'>\n",
      "RangeIndex: 12000 entries, 0 to 11999\n",
      "Data columns (total 10 columns):\n",
      " #   Column                      Non-Null Count  Dtype  \n",
      "---  ------                      --------------  -----  \n",
      " 0   user_id                     12000 non-null  int64  \n",
      " 1   creation_time               12000 non-null  object \n",
      " 2   name                        12000 non-null  object \n",
      " 3   email                       12000 non-null  object \n",
      " 4   creation_source             12000 non-null  object \n",
      " 5   last_session_creation_time  8823 non-null   float64\n",
      " 6   opted_in_to_mailing_list    12000 non-null  int64  \n",
      " 7   enabled_for_marketing_drip  12000 non-null  int64  \n",
      " 8   org_id                      12000 non-null  int64  \n",
      " 9   invited_by_user_id          6417 non-null   float64\n",
      "dtypes: float64(2), int64(4), object(4)\n",
      "memory usage: 937.6+ KB\n"
     ]
    }
   ],
   "source": [
    "df_users.info()"
   ]
  },
  {
   "cell_type": "code",
   "execution_count": 7,
   "id": "a619f745",
   "metadata": {},
   "outputs": [
    {
     "data": {
      "text/plain": [
       "12000"
      ]
     },
     "execution_count": 7,
     "metadata": {},
     "output_type": "execute_result"
    }
   ],
   "source": [
    "len(df_users)"
   ]
  },
  {
   "cell_type": "code",
   "execution_count": 8,
   "id": "3d5e852c",
   "metadata": {},
   "outputs": [],
   "source": [
    "# change date columns to datetime\n",
    "df_users['last_session_creation_time'] = pd.to_datetime(df_users['last_session_creation_time'], infer_datetime_format=True)\n",
    "df_users['creation_time'] = pd.to_datetime(df_users['creation_time'], infer_datetime_format=True)"
   ]
  },
  {
   "cell_type": "code",
   "execution_count": 9,
   "id": "fdfefe84",
   "metadata": {},
   "outputs": [
    {
     "data": {
      "text/html": [
       "<div>\n",
       "<style scoped>\n",
       "    .dataframe tbody tr th:only-of-type {\n",
       "        vertical-align: middle;\n",
       "    }\n",
       "\n",
       "    .dataframe tbody tr th {\n",
       "        vertical-align: top;\n",
       "    }\n",
       "\n",
       "    .dataframe thead th {\n",
       "        text-align: right;\n",
       "    }\n",
       "</style>\n",
       "<table border=\"1\" class=\"dataframe\">\n",
       "  <thead>\n",
       "    <tr style=\"text-align: right;\">\n",
       "      <th></th>\n",
       "      <th>user_id</th>\n",
       "      <th>creation_time</th>\n",
       "      <th>name</th>\n",
       "      <th>email</th>\n",
       "      <th>creation_source</th>\n",
       "      <th>last_session_creation_time</th>\n",
       "      <th>opted_in_to_mailing_list</th>\n",
       "      <th>enabled_for_marketing_drip</th>\n",
       "      <th>org_id</th>\n",
       "      <th>invited_by_user_id</th>\n",
       "    </tr>\n",
       "  </thead>\n",
       "  <tbody>\n",
       "    <tr>\n",
       "      <th>136</th>\n",
       "      <td>137</td>\n",
       "      <td>2012-11-15 23:07:41</td>\n",
       "      <td>Renwick Luca</td>\n",
       "      <td>LucaRenwick@hotmail.com</td>\n",
       "      <td>PERSONAL_PROJECTS</td>\n",
       "      <td>NaT</td>\n",
       "      <td>0</td>\n",
       "      <td>0</td>\n",
       "      <td>9</td>\n",
       "      <td>NaN</td>\n",
       "    </tr>\n",
       "  </tbody>\n",
       "</table>\n",
       "</div>"
      ],
      "text/plain": [
       "     user_id       creation_time          name                    email  \\\n",
       "136      137 2012-11-15 23:07:41  Renwick Luca  LucaRenwick@hotmail.com   \n",
       "\n",
       "       creation_source last_session_creation_time  opted_in_to_mailing_list  \\\n",
       "136  PERSONAL_PROJECTS                        NaT                         0   \n",
       "\n",
       "     enabled_for_marketing_drip  org_id  invited_by_user_id  \n",
       "136                           0       9                 NaN  "
      ]
     },
     "execution_count": 9,
     "metadata": {},
     "output_type": "execute_result"
    }
   ],
   "source": [
    "s = df_users.loc[df_users['user_id'] == 137]\n",
    "s.head()"
   ]
  },
  {
   "cell_type": "markdown",
   "id": "84807867",
   "metadata": {},
   "source": [
    "Load the second csv. "
   ]
  },
  {
   "cell_type": "code",
   "execution_count": 10,
   "id": "e5a90eef",
   "metadata": {
    "scrolled": true
   },
   "outputs": [
    {
     "data": {
      "text/html": [
       "<div>\n",
       "<style scoped>\n",
       "    .dataframe tbody tr th:only-of-type {\n",
       "        vertical-align: middle;\n",
       "    }\n",
       "\n",
       "    .dataframe tbody tr th {\n",
       "        vertical-align: top;\n",
       "    }\n",
       "\n",
       "    .dataframe thead th {\n",
       "        text-align: right;\n",
       "    }\n",
       "</style>\n",
       "<table border=\"1\" class=\"dataframe\">\n",
       "  <thead>\n",
       "    <tr style=\"text-align: right;\">\n",
       "      <th></th>\n",
       "      <th>time_stamp</th>\n",
       "      <th>user_id</th>\n",
       "      <th>visited</th>\n",
       "    </tr>\n",
       "  </thead>\n",
       "  <tbody>\n",
       "    <tr>\n",
       "      <th>0</th>\n",
       "      <td>2014-04-22 03:53:30</td>\n",
       "      <td>1</td>\n",
       "      <td>1</td>\n",
       "    </tr>\n",
       "    <tr>\n",
       "      <th>1</th>\n",
       "      <td>2013-11-15 03:45:04</td>\n",
       "      <td>2</td>\n",
       "      <td>1</td>\n",
       "    </tr>\n",
       "  </tbody>\n",
       "</table>\n",
       "</div>"
      ],
      "text/plain": [
       "            time_stamp  user_id  visited\n",
       "0  2014-04-22 03:53:30        1        1\n",
       "1  2013-11-15 03:45:04        2        1"
      ]
     },
     "execution_count": 10,
     "metadata": {},
     "output_type": "execute_result"
    }
   ],
   "source": [
    "df_engagement = pd.read_csv('takehome_user_engagement.csv')\n",
    "df_engagement.head(2)"
   ]
  },
  {
   "cell_type": "markdown",
   "id": "5fcc0b8a",
   "metadata": {},
   "source": [
    "According to the documentation, df_engagement contains a row for each day that a user logged into the product. "
   ]
  },
  {
   "cell_type": "markdown",
   "id": "5af479e8",
   "metadata": {},
   "source": [
    "Problem Statement:\n",
    "\n",
    "If we define an adopted user as a user who has logged into the product on three separate days in at least one 7 day period, identify which factors predict future user adoption. \n",
    "\n",
    "Please send us a brief writeup of your findings (the more concise, the better - no  more than one page), along with any summary tables, graphs, code, or queries that can help us understand your approach. Please note any factors you considered or investigation you did, even if they did not pan out. Feel free to identify any further research or data you think would be valuable. \n"
   ]
  },
  {
   "cell_type": "markdown",
   "id": "2f321aaf",
   "metadata": {},
   "source": [
    "We definitely have to use a predictive model which let's us see the feature weights. Perhaps we will use logistic regression. "
   ]
  },
  {
   "cell_type": "code",
   "execution_count": 11,
   "id": "2983e541",
   "metadata": {},
   "outputs": [
    {
     "data": {
      "text/plain": [
       "(207917, 12000)"
      ]
     },
     "execution_count": 11,
     "metadata": {},
     "output_type": "execute_result"
    }
   ],
   "source": [
    "len(df_engagement), len(df_users)"
   ]
  },
  {
   "cell_type": "markdown",
   "id": "fa6c74fe",
   "metadata": {},
   "source": [
    "We need to classify each user as an adopted user or not. "
   ]
  },
  {
   "cell_type": "code",
   "execution_count": 12,
   "id": "75f6086d",
   "metadata": {},
   "outputs": [
    {
     "name": "stdout",
     "output_type": "stream",
     "text": [
      "<class 'pandas.core.frame.DataFrame'>\n",
      "RangeIndex: 207917 entries, 0 to 207916\n",
      "Data columns (total 3 columns):\n",
      " #   Column      Non-Null Count   Dtype \n",
      "---  ------      --------------   ----- \n",
      " 0   time_stamp  207917 non-null  object\n",
      " 1   user_id     207917 non-null  int64 \n",
      " 2   visited     207917 non-null  int64 \n",
      "dtypes: int64(2), object(1)\n",
      "memory usage: 4.8+ MB\n"
     ]
    }
   ],
   "source": [
    "df_engagement.info()"
   ]
  },
  {
   "cell_type": "code",
   "execution_count": 13,
   "id": "73171754",
   "metadata": {},
   "outputs": [
    {
     "data": {
      "text/plain": [
       "8823"
      ]
     },
     "execution_count": 13,
     "metadata": {},
     "output_type": "execute_result"
    }
   ],
   "source": [
    "len(df_engagement['user_id'].unique())"
   ]
  },
  {
   "cell_type": "code",
   "execution_count": 14,
   "id": "5d10c9a0",
   "metadata": {},
   "outputs": [],
   "source": [
    "# convert time_stamp to datetime\n",
    "df_engagement['time_stamp'] = pd.to_datetime(df_engagement['time_stamp'], infer_datetime_format=True)"
   ]
  },
  {
   "cell_type": "code",
   "execution_count": 15,
   "id": "1616db80",
   "metadata": {},
   "outputs": [],
   "source": [
    "# Grab the min and max log in dates so that we can possibly filter out records later\n",
    "last_day = (datetime.datetime.utcnow() - (df_engagement['time_stamp'].max())).days\n",
    "first_day = (datetime.datetime.utcnow() - (df_engagement['time_stamp'].min())).days"
   ]
  },
  {
   "cell_type": "markdown",
   "id": "6d54cf12",
   "metadata": {},
   "source": [
    "Users who are not otherwise adopters, who engaged twice between the first date, and 6 days later, and users who are not otherwise adopters and engaged twice between the last date and 6 days before, should be dropped from the df_users database as we cannot be sure that the did not engage a 3rd time either before our data started or after it completed. "
   ]
  },
  {
   "cell_type": "code",
   "execution_count": 16,
   "id": "d359fe7e",
   "metadata": {},
   "outputs": [],
   "source": [
    "# get a complete list of user_ids from df_user\n",
    "users = df_users.user_id.unique()\n",
    "users = users.tolist()"
   ]
  },
  {
   "cell_type": "code",
   "execution_count": 17,
   "id": "e6c00e59",
   "metadata": {},
   "outputs": [
    {
     "data": {
      "text/plain": [
       "12000"
      ]
     },
     "execution_count": 17,
     "metadata": {},
     "output_type": "execute_result"
    }
   ],
   "source": [
    "# how many users\n",
    "len(users)"
   ]
  },
  {
   "cell_type": "markdown",
   "id": "69ad1468",
   "metadata": {},
   "source": [
    "So every line in the df_users dataframe has a unique user. "
   ]
  },
  {
   "cell_type": "code",
   "execution_count": 18,
   "id": "9fbce7ee",
   "metadata": {},
   "outputs": [
    {
     "data": {
      "text/html": [
       "<div>\n",
       "<style scoped>\n",
       "    .dataframe tbody tr th:only-of-type {\n",
       "        vertical-align: middle;\n",
       "    }\n",
       "\n",
       "    .dataframe tbody tr th {\n",
       "        vertical-align: top;\n",
       "    }\n",
       "\n",
       "    .dataframe thead th {\n",
       "        text-align: right;\n",
       "    }\n",
       "</style>\n",
       "<table border=\"1\" class=\"dataframe\">\n",
       "  <thead>\n",
       "    <tr style=\"text-align: right;\">\n",
       "      <th></th>\n",
       "      <th>time_stamp</th>\n",
       "      <th>visited</th>\n",
       "    </tr>\n",
       "    <tr>\n",
       "      <th>user_id</th>\n",
       "      <th></th>\n",
       "      <th></th>\n",
       "    </tr>\n",
       "  </thead>\n",
       "  <tbody>\n",
       "    <tr>\n",
       "      <th>1</th>\n",
       "      <td>1</td>\n",
       "      <td>1</td>\n",
       "    </tr>\n",
       "    <tr>\n",
       "      <th>2</th>\n",
       "      <td>14</td>\n",
       "      <td>14</td>\n",
       "    </tr>\n",
       "    <tr>\n",
       "      <th>3</th>\n",
       "      <td>1</td>\n",
       "      <td>1</td>\n",
       "    </tr>\n",
       "    <tr>\n",
       "      <th>4</th>\n",
       "      <td>1</td>\n",
       "      <td>1</td>\n",
       "    </tr>\n",
       "    <tr>\n",
       "      <th>5</th>\n",
       "      <td>1</td>\n",
       "      <td>1</td>\n",
       "    </tr>\n",
       "  </tbody>\n",
       "</table>\n",
       "</div>"
      ],
      "text/plain": [
       "         time_stamp  visited\n",
       "user_id                     \n",
       "1                 1        1\n",
       "2                14       14\n",
       "3                 1        1\n",
       "4                 1        1\n",
       "5                 1        1"
      ]
     },
     "execution_count": 18,
     "metadata": {},
     "output_type": "execute_result"
    }
   ],
   "source": [
    "# identify whether a user has at least 3 separate log-ins within a 7 day period. \n",
    "freq = df_engagement.groupby(['user_id']).count() \n",
    "freq.head()"
   ]
  },
  {
   "cell_type": "code",
   "execution_count": 19,
   "id": "45c45d55",
   "metadata": {},
   "outputs": [
    {
     "data": {
      "text/plain": [
       "(        time_stamp      visited\n",
       " count  8823.000000  8823.000000\n",
       " mean     23.565341    23.565341\n",
       " std      73.988152    73.988152\n",
       " min       1.000000     1.000000\n",
       " 25%       1.000000     1.000000\n",
       " 50%       1.000000     1.000000\n",
       " 75%       3.000000     3.000000\n",
       " max     606.000000   606.000000,\n",
       " 8823)"
      ]
     },
     "execution_count": 19,
     "metadata": {},
     "output_type": "execute_result"
    }
   ],
   "source": [
    "freq.describe(), len(freq)"
   ]
  },
  {
   "cell_type": "markdown",
   "id": "63988070",
   "metadata": {},
   "source": [
    "Most users only visited once. Anyone who visited less than 3 times is not an adopter. \n",
    "There are 8823 users in this record. Anyone who is listed on the df_users dataframe who is not included here is also not an adopter, as they never logged in at all. We can populate those records. "
   ]
  },
  {
   "cell_type": "code",
   "execution_count": 20,
   "id": "61667492",
   "metadata": {},
   "outputs": [],
   "source": [
    "# populate the adopter field with 0\n",
    "df_users['adopter'] = 0"
   ]
  },
  {
   "cell_type": "code",
   "execution_count": 21,
   "id": "d5f1acf9",
   "metadata": {},
   "outputs": [
    {
     "name": "stdout",
     "output_type": "stream",
     "text": [
      "     user_id       creation_time          name                    email  \\\n",
      "136      137 2012-11-15 23:07:41  Renwick Luca  LucaRenwick@hotmail.com   \n",
      "\n",
      "       creation_source last_session_creation_time  opted_in_to_mailing_list  \\\n",
      "136  PERSONAL_PROJECTS                        NaT                         0   \n",
      "\n",
      "     enabled_for_marketing_drip  org_id  invited_by_user_id  adopter  \n",
      "136                           0       9                 NaN        0  \n"
     ]
    }
   ],
   "source": [
    "s = df_users[df_users['user_id'] == 137]\n",
    "print(s)"
   ]
  },
  {
   "cell_type": "code",
   "execution_count": 22,
   "id": "1ee853e5",
   "metadata": {},
   "outputs": [
    {
     "data": {
      "text/plain": [
       "0"
      ]
     },
     "execution_count": 22,
     "metadata": {},
     "output_type": "execute_result"
    }
   ],
   "source": [
    "# Do we have any null values for adopter\n",
    "df_users.adopter.isnull().sum()"
   ]
  },
  {
   "cell_type": "code",
   "execution_count": 23,
   "id": "f5d9333a",
   "metadata": {},
   "outputs": [
    {
     "name": "stdout",
     "output_type": "stream",
     "text": [
      "<class 'pandas.core.frame.DataFrame'>\n",
      "RangeIndex: 207917 entries, 0 to 207916\n",
      "Data columns (total 3 columns):\n",
      " #   Column      Non-Null Count   Dtype         \n",
      "---  ------      --------------   -----         \n",
      " 0   time_stamp  207917 non-null  datetime64[ns]\n",
      " 1   user_id     207917 non-null  int64         \n",
      " 2   visited     207917 non-null  int64         \n",
      "dtypes: datetime64[ns](1), int64(2)\n",
      "memory usage: 4.8 MB\n"
     ]
    }
   ],
   "source": [
    "df_engagement.info()"
   ]
  },
  {
   "cell_type": "code",
   "execution_count": 24,
   "id": "7bf7d5d1",
   "metadata": {},
   "outputs": [
    {
     "data": {
      "text/plain": [
       "pandas.core.series.Series"
      ]
     },
     "execution_count": 24,
     "metadata": {},
     "output_type": "execute_result"
    }
   ],
   "source": [
    "df = df_engagement.groupby('user_id')['time_stamp'].apply(list)\n",
    "type(df)"
   ]
  },
  {
   "cell_type": "code",
   "execution_count": 25,
   "id": "6cd71ff5",
   "metadata": {},
   "outputs": [],
   "source": [
    "df = pd.DataFrame(df)"
   ]
  },
  {
   "cell_type": "code",
   "execution_count": 26,
   "id": "e85fe1f8",
   "metadata": {},
   "outputs": [
    {
     "data": {
      "text/plain": [
       "14"
      ]
     },
     "execution_count": 26,
     "metadata": {},
     "output_type": "execute_result"
    }
   ],
   "source": [
    "# check to be sure I can access the list within the time_stamp\n",
    "len(df.loc[2, 'time_stamp'])"
   ]
  },
  {
   "cell_type": "code",
   "execution_count": 27,
   "id": "61c76183",
   "metadata": {},
   "outputs": [],
   "source": [
    "def is_adopter(list):\n",
    "    # function days a list of timestamps for a user\n",
    "    # and returns 1 if the user is an adopter, else returns 0\n",
    "    a = 0\n",
    "    days = []\n",
    "    \n",
    "    # Change the list of times to a list of ints\n",
    "    for item in list:\n",
    "        delta = (datetime.datetime.utcnow() - item).days\n",
    "        days.append(delta)\n",
    "        \n",
    "    for i in range(len(days)-1, 1, -1):\n",
    "    \n",
    "        if days[i-2] - days[i] <= 7:\n",
    "            a = 1\n",
    "            return a\n",
    "        if abs(max(days) - first_day) <= 6:\n",
    "            a = 3\n",
    "            return a\n",
    "        if abs(min(days) - last_day) <= 6:\n",
    "            a = 3\n",
    "            return a\n",
    "    return a\n",
    "    #print(days[i], days[i-2])"
   ]
  },
  {
   "cell_type": "code",
   "execution_count": 28,
   "id": "454a371a",
   "metadata": {},
   "outputs": [
    {
     "name": "stdout",
     "output_type": "stream",
     "text": [
      "8823\n"
     ]
    }
   ],
   "source": [
    "count = 0\n",
    "for id, list in zip(df.index, df.time_stamp):\n",
    "    a = is_adopter(list)\n",
    "    df_users.loc[id, 'adopter'] = a\n",
    "    count += 1\n",
    "print(count)"
   ]
  },
  {
   "cell_type": "code",
   "execution_count": 29,
   "id": "9a9596a7",
   "metadata": {},
   "outputs": [
    {
     "data": {
      "text/html": [
       "<div>\n",
       "<style scoped>\n",
       "    .dataframe tbody tr th:only-of-type {\n",
       "        vertical-align: middle;\n",
       "    }\n",
       "\n",
       "    .dataframe tbody tr th {\n",
       "        vertical-align: top;\n",
       "    }\n",
       "\n",
       "    .dataframe thead th {\n",
       "        text-align: right;\n",
       "    }\n",
       "</style>\n",
       "<table border=\"1\" class=\"dataframe\">\n",
       "  <thead>\n",
       "    <tr style=\"text-align: right;\">\n",
       "      <th></th>\n",
       "      <th>user_id</th>\n",
       "      <th>creation_time</th>\n",
       "      <th>name</th>\n",
       "      <th>email</th>\n",
       "      <th>creation_source</th>\n",
       "      <th>last_session_creation_time</th>\n",
       "      <th>opted_in_to_mailing_list</th>\n",
       "      <th>enabled_for_marketing_drip</th>\n",
       "      <th>org_id</th>\n",
       "      <th>invited_by_user_id</th>\n",
       "    </tr>\n",
       "    <tr>\n",
       "      <th>adopter</th>\n",
       "      <th></th>\n",
       "      <th></th>\n",
       "      <th></th>\n",
       "      <th></th>\n",
       "      <th></th>\n",
       "      <th></th>\n",
       "      <th></th>\n",
       "      <th></th>\n",
       "      <th></th>\n",
       "      <th></th>\n",
       "    </tr>\n",
       "  </thead>\n",
       "  <tbody>\n",
       "    <tr>\n",
       "      <th>0.0</th>\n",
       "      <td>10294</td>\n",
       "      <td>10294</td>\n",
       "      <td>10294</td>\n",
       "      <td>10294</td>\n",
       "      <td>10294</td>\n",
       "      <td>7583</td>\n",
       "      <td>10294</td>\n",
       "      <td>10294</td>\n",
       "      <td>10294</td>\n",
       "      <td>5497</td>\n",
       "    </tr>\n",
       "    <tr>\n",
       "      <th>1.0</th>\n",
       "      <td>1558</td>\n",
       "      <td>1558</td>\n",
       "      <td>1558</td>\n",
       "      <td>1558</td>\n",
       "      <td>1558</td>\n",
       "      <td>1128</td>\n",
       "      <td>1558</td>\n",
       "      <td>1558</td>\n",
       "      <td>1558</td>\n",
       "      <td>845</td>\n",
       "    </tr>\n",
       "    <tr>\n",
       "      <th>3.0</th>\n",
       "      <td>148</td>\n",
       "      <td>148</td>\n",
       "      <td>148</td>\n",
       "      <td>148</td>\n",
       "      <td>148</td>\n",
       "      <td>112</td>\n",
       "      <td>148</td>\n",
       "      <td>148</td>\n",
       "      <td>148</td>\n",
       "      <td>75</td>\n",
       "    </tr>\n",
       "  </tbody>\n",
       "</table>\n",
       "</div>"
      ],
      "text/plain": [
       "         user_id  creation_time   name  email  creation_source  \\\n",
       "adopter                                                          \n",
       "0.0        10294          10294  10294  10294            10294   \n",
       "1.0         1558           1558   1558   1558             1558   \n",
       "3.0          148            148    148    148              148   \n",
       "\n",
       "         last_session_creation_time  opted_in_to_mailing_list  \\\n",
       "adopter                                                         \n",
       "0.0                            7583                     10294   \n",
       "1.0                            1128                      1558   \n",
       "3.0                             112                       148   \n",
       "\n",
       "         enabled_for_marketing_drip  org_id  invited_by_user_id  \n",
       "adopter                                                          \n",
       "0.0                           10294   10294                5497  \n",
       "1.0                            1558    1558                 845  \n",
       "3.0                             148     148                  75  "
      ]
     },
     "execution_count": 29,
     "metadata": {},
     "output_type": "execute_result"
    }
   ],
   "source": [
    "df_users.groupby(['adopter']).count() "
   ]
  },
  {
   "cell_type": "code",
   "execution_count": 30,
   "id": "9fd14c4f",
   "metadata": {},
   "outputs": [
    {
     "data": {
      "text/plain": [
       "0"
      ]
     },
     "execution_count": 30,
     "metadata": {},
     "output_type": "execute_result"
    }
   ],
   "source": [
    "# Do we have any null values for adopter\n",
    "df_users.adopter.isnull().sum()"
   ]
  },
  {
   "cell_type": "code",
   "execution_count": 31,
   "id": "3fa101c9",
   "metadata": {},
   "outputs": [],
   "source": [
    "# Drop all records with \"3\" as adopter. We don't have enough information about these users to tell if they are adopters or not. \n",
    "df_users = df_users[df_users.adopter != 3]"
   ]
  },
  {
   "cell_type": "code",
   "execution_count": 32,
   "id": "73d28a6b",
   "metadata": {},
   "outputs": [
    {
     "name": "stdout",
     "output_type": "stream",
     "text": [
      "<class 'pandas.core.frame.DataFrame'>\n",
      "Int64Index: 11853 entries, 0 to 12000\n",
      "Data columns (total 11 columns):\n",
      " #   Column                      Non-Null Count  Dtype         \n",
      "---  ------                      --------------  -----         \n",
      " 0   user_id                     11852 non-null  float64       \n",
      " 1   creation_time               11852 non-null  datetime64[ns]\n",
      " 2   name                        11852 non-null  object        \n",
      " 3   email                       11852 non-null  object        \n",
      " 4   creation_source             11852 non-null  object        \n",
      " 5   last_session_creation_time  8711 non-null   datetime64[ns]\n",
      " 6   opted_in_to_mailing_list    11852 non-null  float64       \n",
      " 7   enabled_for_marketing_drip  11852 non-null  float64       \n",
      " 8   org_id                      11852 non-null  float64       \n",
      " 9   invited_by_user_id          6342 non-null   float64       \n",
      " 10  adopter                     11853 non-null  float64       \n",
      "dtypes: datetime64[ns](2), float64(6), object(3)\n",
      "memory usage: 1.1+ MB\n"
     ]
    }
   ],
   "source": [
    "df_users.info()"
   ]
  },
  {
   "cell_type": "code",
   "execution_count": 33,
   "id": "5870b76f",
   "metadata": {},
   "outputs": [],
   "source": [
    "df_users = df_users[df_users['user_id'].notnull()]"
   ]
  },
  {
   "cell_type": "code",
   "execution_count": 34,
   "id": "607f5df7",
   "metadata": {},
   "outputs": [],
   "source": [
    "df_users.invited_by_user_id.fillna('none', inplace=True)"
   ]
  },
  {
   "cell_type": "code",
   "execution_count": 35,
   "id": "8d0706cf",
   "metadata": {},
   "outputs": [
    {
     "name": "stdout",
     "output_type": "stream",
     "text": [
      "<class 'pandas.core.frame.DataFrame'>\n",
      "Int64Index: 11852 entries, 0 to 11999\n",
      "Data columns (total 11 columns):\n",
      " #   Column                      Non-Null Count  Dtype         \n",
      "---  ------                      --------------  -----         \n",
      " 0   user_id                     11852 non-null  float64       \n",
      " 1   creation_time               11852 non-null  datetime64[ns]\n",
      " 2   name                        11852 non-null  object        \n",
      " 3   email                       11852 non-null  object        \n",
      " 4   creation_source             11852 non-null  object        \n",
      " 5   last_session_creation_time  8711 non-null   datetime64[ns]\n",
      " 6   opted_in_to_mailing_list    11852 non-null  float64       \n",
      " 7   enabled_for_marketing_drip  11852 non-null  float64       \n",
      " 8   org_id                      11852 non-null  float64       \n",
      " 9   invited_by_user_id          11852 non-null  object        \n",
      " 10  adopter                     11852 non-null  float64       \n",
      "dtypes: datetime64[ns](2), float64(5), object(4)\n",
      "memory usage: 1.1+ MB\n"
     ]
    }
   ],
   "source": [
    "df_users.info()"
   ]
  },
  {
   "cell_type": "markdown",
   "id": "852affce",
   "metadata": {},
   "source": [
    "Our classification is 'adopter'. Let's check each column individually. Would be nice to make each a category and use a random forest model. "
   ]
  },
  {
   "cell_type": "markdown",
   "id": "ade54f2d",
   "metadata": {},
   "source": [
    "'User_id' and 'name' are not important. We won't use that for machine learning. 'Last_session_creation_time' was already used as criteria for adopter or not an adopter. We also will not create any features around 'creation_time' due to time constraints of the problem. But it may be interesting to look at the time between creation_time and first login time. Such as, if a user is likely to adopt, perhaps he is likely to have adopted earlier. "
   ]
  },
  {
   "cell_type": "code",
   "execution_count": 36,
   "id": "eaa3d1f1",
   "metadata": {},
   "outputs": [],
   "source": [
    "ml_df = df_users.drop(columns=['user_id', 'name', 'last_session_creation_time', 'creation_time',\n",
    "                              'email'], axis=1)"
   ]
  },
  {
   "cell_type": "code",
   "execution_count": 37,
   "id": "93d31c29",
   "metadata": {},
   "outputs": [
    {
     "name": "stdout",
     "output_type": "stream",
     "text": [
      "<class 'pandas.core.frame.DataFrame'>\n",
      "Int64Index: 11852 entries, 0 to 11999\n",
      "Data columns (total 6 columns):\n",
      " #   Column                      Non-Null Count  Dtype  \n",
      "---  ------                      --------------  -----  \n",
      " 0   creation_source             11852 non-null  object \n",
      " 1   opted_in_to_mailing_list    11852 non-null  float64\n",
      " 2   enabled_for_marketing_drip  11852 non-null  float64\n",
      " 3   org_id                      11852 non-null  float64\n",
      " 4   invited_by_user_id          11852 non-null  object \n",
      " 5   adopter                     11852 non-null  float64\n",
      "dtypes: float64(4), object(2)\n",
      "memory usage: 648.2+ KB\n"
     ]
    }
   ],
   "source": [
    "ml_df.info()"
   ]
  },
  {
   "cell_type": "code",
   "execution_count": 38,
   "id": "8f97f7b9",
   "metadata": {},
   "outputs": [],
   "source": [
    "df2 = df_users.email.str.split('@').tolist()"
   ]
  },
  {
   "cell_type": "code",
   "execution_count": 39,
   "id": "add503e4",
   "metadata": {},
   "outputs": [],
   "source": [
    "# Categorical lists to be changed into dummies\n",
    "cats = ['opted_in_to_mailing_list', 'enabled_for_marketing_drip', 'org_id']\n",
    "ml_df[cats] = ml_df[cats].astype('category')\n"
   ]
  },
  {
   "cell_type": "code",
   "execution_count": 40,
   "id": "05646e80",
   "metadata": {},
   "outputs": [
    {
     "data": {
      "text/html": [
       "<div>\n",
       "<style scoped>\n",
       "    .dataframe tbody tr th:only-of-type {\n",
       "        vertical-align: middle;\n",
       "    }\n",
       "\n",
       "    .dataframe tbody tr th {\n",
       "        vertical-align: top;\n",
       "    }\n",
       "\n",
       "    .dataframe thead th {\n",
       "        text-align: right;\n",
       "    }\n",
       "</style>\n",
       "<table border=\"1\" class=\"dataframe\">\n",
       "  <thead>\n",
       "    <tr style=\"text-align: right;\">\n",
       "      <th></th>\n",
       "      <th>creation_source</th>\n",
       "      <th>opted_in_to_mailing_list</th>\n",
       "      <th>enabled_for_marketing_drip</th>\n",
       "      <th>org_id</th>\n",
       "      <th>invited_by_user_id</th>\n",
       "      <th>adopter</th>\n",
       "    </tr>\n",
       "  </thead>\n",
       "  <tbody>\n",
       "    <tr>\n",
       "      <th>2</th>\n",
       "      <td>ORG_INVITE</td>\n",
       "      <td>0.0</td>\n",
       "      <td>0.0</td>\n",
       "      <td>94.0</td>\n",
       "      <td>1525.0</td>\n",
       "      <td>1.0</td>\n",
       "    </tr>\n",
       "    <tr>\n",
       "      <th>10</th>\n",
       "      <td>SIGNUP</td>\n",
       "      <td>0.0</td>\n",
       "      <td>0.0</td>\n",
       "      <td>69.0</td>\n",
       "      <td>none</td>\n",
       "      <td>1.0</td>\n",
       "    </tr>\n",
       "    <tr>\n",
       "      <th>20</th>\n",
       "      <td>PERSONAL_PROJECTS</td>\n",
       "      <td>0.0</td>\n",
       "      <td>0.0</td>\n",
       "      <td>54.0</td>\n",
       "      <td>none</td>\n",
       "      <td>1.0</td>\n",
       "    </tr>\n",
       "    <tr>\n",
       "      <th>33</th>\n",
       "      <td>ORG_INVITE</td>\n",
       "      <td>0.0</td>\n",
       "      <td>0.0</td>\n",
       "      <td>33.0</td>\n",
       "      <td>3721.0</td>\n",
       "      <td>1.0</td>\n",
       "    </tr>\n",
       "    <tr>\n",
       "      <th>42</th>\n",
       "      <td>GUEST_INVITE</td>\n",
       "      <td>0.0</td>\n",
       "      <td>0.0</td>\n",
       "      <td>63.0</td>\n",
       "      <td>149.0</td>\n",
       "      <td>1.0</td>\n",
       "    </tr>\n",
       "    <tr>\n",
       "      <th>...</th>\n",
       "      <td>...</td>\n",
       "      <td>...</td>\n",
       "      <td>...</td>\n",
       "      <td>...</td>\n",
       "      <td>...</td>\n",
       "      <td>...</td>\n",
       "    </tr>\n",
       "    <tr>\n",
       "      <th>11965</th>\n",
       "      <td>PERSONAL_PROJECTS</td>\n",
       "      <td>0.0</td>\n",
       "      <td>0.0</td>\n",
       "      <td>39.0</td>\n",
       "      <td>none</td>\n",
       "      <td>1.0</td>\n",
       "    </tr>\n",
       "    <tr>\n",
       "      <th>11967</th>\n",
       "      <td>SIGNUP_GOOGLE_AUTH</td>\n",
       "      <td>1.0</td>\n",
       "      <td>1.0</td>\n",
       "      <td>273.0</td>\n",
       "      <td>none</td>\n",
       "      <td>1.0</td>\n",
       "    </tr>\n",
       "    <tr>\n",
       "      <th>11969</th>\n",
       "      <td>SIGNUP</td>\n",
       "      <td>0.0</td>\n",
       "      <td>0.0</td>\n",
       "      <td>126.0</td>\n",
       "      <td>none</td>\n",
       "      <td>1.0</td>\n",
       "    </tr>\n",
       "    <tr>\n",
       "      <th>11975</th>\n",
       "      <td>PERSONAL_PROJECTS</td>\n",
       "      <td>0.0</td>\n",
       "      <td>0.0</td>\n",
       "      <td>248.0</td>\n",
       "      <td>none</td>\n",
       "      <td>1.0</td>\n",
       "    </tr>\n",
       "    <tr>\n",
       "      <th>11988</th>\n",
       "      <td>SIGNUP_GOOGLE_AUTH</td>\n",
       "      <td>1.0</td>\n",
       "      <td>0.0</td>\n",
       "      <td>22.0</td>\n",
       "      <td>none</td>\n",
       "      <td>1.0</td>\n",
       "    </tr>\n",
       "  </tbody>\n",
       "</table>\n",
       "<p>1558 rows × 6 columns</p>\n",
       "</div>"
      ],
      "text/plain": [
       "          creation_source opted_in_to_mailing_list enabled_for_marketing_drip  \\\n",
       "2              ORG_INVITE                      0.0                        0.0   \n",
       "10                 SIGNUP                      0.0                        0.0   \n",
       "20      PERSONAL_PROJECTS                      0.0                        0.0   \n",
       "33             ORG_INVITE                      0.0                        0.0   \n",
       "42           GUEST_INVITE                      0.0                        0.0   \n",
       "...                   ...                      ...                        ...   \n",
       "11965   PERSONAL_PROJECTS                      0.0                        0.0   \n",
       "11967  SIGNUP_GOOGLE_AUTH                      1.0                        1.0   \n",
       "11969              SIGNUP                      0.0                        0.0   \n",
       "11975   PERSONAL_PROJECTS                      0.0                        0.0   \n",
       "11988  SIGNUP_GOOGLE_AUTH                      1.0                        0.0   \n",
       "\n",
       "      org_id invited_by_user_id  adopter  \n",
       "2       94.0             1525.0      1.0  \n",
       "10      69.0               none      1.0  \n",
       "20      54.0               none      1.0  \n",
       "33      33.0             3721.0      1.0  \n",
       "42      63.0              149.0      1.0  \n",
       "...      ...                ...      ...  \n",
       "11965   39.0               none      1.0  \n",
       "11967  273.0               none      1.0  \n",
       "11969  126.0               none      1.0  \n",
       "11975  248.0               none      1.0  \n",
       "11988   22.0               none      1.0  \n",
       "\n",
       "[1558 rows x 6 columns]"
      ]
     },
     "execution_count": 40,
     "metadata": {},
     "output_type": "execute_result"
    }
   ],
   "source": [
    "ml_df[ml_df['adopter']==1]"
   ]
  },
  {
   "cell_type": "markdown",
   "id": "2bef350c",
   "metadata": {},
   "source": [
    "Future feature - use the domain name from the email addresses as a category. For now, we will not use it. \n",
    "\n",
    "Separate the data into features and target. "
   ]
  },
  {
   "cell_type": "code",
   "execution_count": 41,
   "id": "f5f77d97",
   "metadata": {},
   "outputs": [],
   "source": [
    "X = ml_df.drop(columns=['org_id', 'invited_by_user_id', 'adopter'])\n",
    "y = ml_df['adopter']"
   ]
  },
  {
   "cell_type": "code",
   "execution_count": 42,
   "id": "23b05c4c",
   "metadata": {},
   "outputs": [],
   "source": [
    "# change all categorical features into dummies and print out head\n",
    "X = pd.get_dummies(data=X)"
   ]
  },
  {
   "cell_type": "code",
   "execution_count": 43,
   "id": "1eae6ea0",
   "metadata": {},
   "outputs": [
    {
     "data": {
      "text/html": [
       "<div>\n",
       "<style scoped>\n",
       "    .dataframe tbody tr th:only-of-type {\n",
       "        vertical-align: middle;\n",
       "    }\n",
       "\n",
       "    .dataframe tbody tr th {\n",
       "        vertical-align: top;\n",
       "    }\n",
       "\n",
       "    .dataframe thead th {\n",
       "        text-align: right;\n",
       "    }\n",
       "</style>\n",
       "<table border=\"1\" class=\"dataframe\">\n",
       "  <thead>\n",
       "    <tr style=\"text-align: right;\">\n",
       "      <th></th>\n",
       "      <th>creation_source_GUEST_INVITE</th>\n",
       "      <th>creation_source_ORG_INVITE</th>\n",
       "      <th>creation_source_PERSONAL_PROJECTS</th>\n",
       "      <th>creation_source_SIGNUP</th>\n",
       "      <th>creation_source_SIGNUP_GOOGLE_AUTH</th>\n",
       "      <th>opted_in_to_mailing_list_0.0</th>\n",
       "      <th>opted_in_to_mailing_list_1.0</th>\n",
       "      <th>enabled_for_marketing_drip_0.0</th>\n",
       "      <th>enabled_for_marketing_drip_1.0</th>\n",
       "    </tr>\n",
       "  </thead>\n",
       "  <tbody>\n",
       "    <tr>\n",
       "      <th>0</th>\n",
       "      <td>1</td>\n",
       "      <td>0</td>\n",
       "      <td>0</td>\n",
       "      <td>0</td>\n",
       "      <td>0</td>\n",
       "      <td>0</td>\n",
       "      <td>1</td>\n",
       "      <td>1</td>\n",
       "      <td>0</td>\n",
       "    </tr>\n",
       "    <tr>\n",
       "      <th>1</th>\n",
       "      <td>0</td>\n",
       "      <td>1</td>\n",
       "      <td>0</td>\n",
       "      <td>0</td>\n",
       "      <td>0</td>\n",
       "      <td>1</td>\n",
       "      <td>0</td>\n",
       "      <td>1</td>\n",
       "      <td>0</td>\n",
       "    </tr>\n",
       "    <tr>\n",
       "      <th>2</th>\n",
       "      <td>0</td>\n",
       "      <td>1</td>\n",
       "      <td>0</td>\n",
       "      <td>0</td>\n",
       "      <td>0</td>\n",
       "      <td>1</td>\n",
       "      <td>0</td>\n",
       "      <td>1</td>\n",
       "      <td>0</td>\n",
       "    </tr>\n",
       "    <tr>\n",
       "      <th>3</th>\n",
       "      <td>1</td>\n",
       "      <td>0</td>\n",
       "      <td>0</td>\n",
       "      <td>0</td>\n",
       "      <td>0</td>\n",
       "      <td>1</td>\n",
       "      <td>0</td>\n",
       "      <td>1</td>\n",
       "      <td>0</td>\n",
       "    </tr>\n",
       "    <tr>\n",
       "      <th>4</th>\n",
       "      <td>1</td>\n",
       "      <td>0</td>\n",
       "      <td>0</td>\n",
       "      <td>0</td>\n",
       "      <td>0</td>\n",
       "      <td>1</td>\n",
       "      <td>0</td>\n",
       "      <td>1</td>\n",
       "      <td>0</td>\n",
       "    </tr>\n",
       "  </tbody>\n",
       "</table>\n",
       "</div>"
      ],
      "text/plain": [
       "   creation_source_GUEST_INVITE  creation_source_ORG_INVITE  \\\n",
       "0                             1                           0   \n",
       "1                             0                           1   \n",
       "2                             0                           1   \n",
       "3                             1                           0   \n",
       "4                             1                           0   \n",
       "\n",
       "   creation_source_PERSONAL_PROJECTS  creation_source_SIGNUP  \\\n",
       "0                                  0                       0   \n",
       "1                                  0                       0   \n",
       "2                                  0                       0   \n",
       "3                                  0                       0   \n",
       "4                                  0                       0   \n",
       "\n",
       "   creation_source_SIGNUP_GOOGLE_AUTH  opted_in_to_mailing_list_0.0  \\\n",
       "0                                   0                             0   \n",
       "1                                   0                             1   \n",
       "2                                   0                             1   \n",
       "3                                   0                             1   \n",
       "4                                   0                             1   \n",
       "\n",
       "   opted_in_to_mailing_list_1.0  enabled_for_marketing_drip_0.0  \\\n",
       "0                             1                               1   \n",
       "1                             0                               1   \n",
       "2                             0                               1   \n",
       "3                             0                               1   \n",
       "4                             0                               1   \n",
       "\n",
       "   enabled_for_marketing_drip_1.0  \n",
       "0                               0  \n",
       "1                               0  \n",
       "2                               0  \n",
       "3                               0  \n",
       "4                               0  "
      ]
     },
     "execution_count": 43,
     "metadata": {},
     "output_type": "execute_result"
    }
   ],
   "source": [
    "X.head()"
   ]
  },
  {
   "cell_type": "code",
   "execution_count": 45,
   "id": "f8844316",
   "metadata": {},
   "outputs": [],
   "source": [
    "# Train test split \n",
    "X_train, X_test, y_train, y_test=train_test_split(X, y, test_size=0.15)"
   ]
  },
  {
   "cell_type": "code",
   "execution_count": 46,
   "id": "f79d2463",
   "metadata": {},
   "outputs": [
    {
     "name": "stdout",
     "output_type": "stream",
     "text": [
      "[0.57578875 3.79864253]\n"
     ]
    }
   ],
   "source": [
    "# determine class weights for unbalanced classes\n",
    "from sklearn.utils import class_weight\n",
    "class_weights = class_weight.compute_class_weight('balanced', classes=np.unique(y_train), y=y_train)\n",
    "print(class_weights)\n"
   ]
  },
  {
   "cell_type": "code",
   "execution_count": 48,
   "id": "d68bc4fb",
   "metadata": {},
   "outputs": [],
   "source": [
    "# Instantiate model with class weights as dict\n",
    "model = RandomForestClassifier(class_weight={1:class_weights[1], 0:class_weights[0]})"
   ]
  },
  {
   "cell_type": "code",
   "execution_count": 49,
   "id": "260c7472",
   "metadata": {},
   "outputs": [
    {
     "data": {
      "text/plain": [
       "RandomForestClassifier(class_weight={0: 0.5757887517146777,\n",
       "                                     1: 3.7986425339366514})"
      ]
     },
     "execution_count": 49,
     "metadata": {},
     "output_type": "execute_result"
    }
   ],
   "source": [
    "# fit model\n",
    "model.fit(X_train, y_train)"
   ]
  },
  {
   "cell_type": "code",
   "execution_count": 50,
   "id": "77f7d7d5",
   "metadata": {},
   "outputs": [],
   "source": [
    "# predict\n",
    "ypred=model.predict(X_test)"
   ]
  },
  {
   "cell_type": "code",
   "execution_count": 51,
   "id": "8e0b1ad8",
   "metadata": {},
   "outputs": [
    {
     "data": {
      "text/plain": [
       "array([0., 1.])"
      ]
     },
     "execution_count": 51,
     "metadata": {},
     "output_type": "execute_result"
    }
   ],
   "source": [
    "# confirm that at least some instances of the minority class were predicted! \n",
    "np.unique(ypred)"
   ]
  },
  {
   "cell_type": "code",
   "execution_count": 52,
   "id": "e8428128",
   "metadata": {},
   "outputs": [
    {
     "name": "stdout",
     "output_type": "stream",
     "text": [
      "Score:  0.6188207266229899\n"
     ]
    }
   ],
   "source": [
    "# get score\n",
    "score = model.score(X_train, y_train)\n",
    "print(\"Score: \", score)"
   ]
  },
  {
   "cell_type": "code",
   "execution_count": 60,
   "id": "8ced07ce",
   "metadata": {},
   "outputs": [
    {
     "name": "stdout",
     "output_type": "stream",
     "text": [
      "[[1009  537]\n",
      " [ 131  101]]\n"
     ]
    }
   ],
   "source": [
    "# get confusion matrix\n",
    "cm = confusion_matrix(y_test, ypred)\n",
    "print(cm)"
   ]
  },
  {
   "cell_type": "code",
   "execution_count": 61,
   "id": "fe0dbba9",
   "metadata": {},
   "outputs": [
    {
     "name": "stdout",
     "output_type": "stream",
     "text": [
      "              precision    recall  f1-score   support\n",
      "\n",
      "         0.0       0.89      0.65      0.75      1546\n",
      "         1.0       0.16      0.44      0.23       232\n",
      "\n",
      "    accuracy                           0.62      1778\n",
      "   macro avg       0.52      0.54      0.49      1778\n",
      "weighted avg       0.79      0.62      0.68      1778\n",
      "\n"
     ]
    }
   ],
   "source": [
    "# get classification report\n",
    "cr = classification_report(y_test, ypred)\n",
    "print(cr)"
   ]
  },
  {
   "cell_type": "code",
   "execution_count": 62,
   "id": "723441f4",
   "metadata": {},
   "outputs": [
    {
     "name": "stdout",
     "output_type": "stream",
     "text": [
      "DecisionTreeClassifier(max_features='auto', random_state=641271167)\n"
     ]
    }
   ],
   "source": [
    "# Extract single tree\n",
    "estimator = model.estimators_[5]\n",
    "print(estimator)"
   ]
  },
  {
   "cell_type": "code",
   "execution_count": 63,
   "id": "8f7e5689",
   "metadata": {},
   "outputs": [
    {
     "data": {
      "image/png": "[encoded data removed]",
      "text/plain": [
       "<Figure size 1800x1080 with 1 Axes>"
      ]
     },
     "metadata": {
      "needs_background": "light"
     },
     "output_type": "display_data"
    }
   ],
   "source": [
    "import pydot\n",
    "# Pull out one tree from the forest\n",
    "Tree = model.estimators_[5]\n",
    "# Export the image to a dot file\n",
    "from sklearn import tree\n",
    "plt.figure(figsize=(25,15))\n",
    "tree.plot_tree(Tree,filled=True, \n",
    "              rounded=True, \n",
    "              fontsize=14);"
   ]
  },
  {
   "cell_type": "code",
   "execution_count": 64,
   "id": "87a6be61",
   "metadata": {},
   "outputs": [
    {
     "data": {
      "text/plain": [
       "6"
      ]
     },
     "execution_count": 64,
     "metadata": {},
     "output_type": "execute_result"
    }
   ],
   "source": [
    "model.estimators_[0].tree_.max_depth"
   ]
  },
  {
   "cell_type": "markdown",
   "id": "b54cb155",
   "metadata": {},
   "source": [
    "Another way to handle the imbalance might be to predict outliers. "
   ]
  },
  {
   "cell_type": "code",
   "execution_count": 70,
   "id": "d4fc76fa",
   "metadata": {},
   "outputs": [],
   "source": [
    "# mark inliers 1, outliers -1\n",
    "y_test[y_test == 1] = -1\n",
    "y_test[y_test == 0] = 1"
   ]
  },
  {
   "cell_type": "code",
   "execution_count": 71,
   "id": "b2592f8b",
   "metadata": {},
   "outputs": [],
   "source": [
    "# define outlier detection model\n",
    "SVM = OneClassSVM(gamma='scale', nu=0.1)"
   ]
  },
  {
   "cell_type": "code",
   "execution_count": 75,
   "id": "ba6d3765",
   "metadata": {},
   "outputs": [],
   "source": [
    "# fit on majority class\n",
    "#trainX = X_train[y_train==1]\n",
    "#model.fit(trainX, y_test)"
   ]
  },
  {
   "cell_type": "code",
   "execution_count": null,
   "id": "779fb03a",
   "metadata": {},
   "outputs": [],
   "source": [
    "# detect outliers in the test set\n",
    "yhat = model.predict(X_test)"
   ]
  },
  {
   "cell_type": "code",
   "execution_count": null,
   "id": "4cd01bb6",
   "metadata": {},
   "outputs": [],
   "source": [
    "\n",
    "# calculate score\n",
    "score = f1_score(y_test, yhat, pos_label=-1)\n",
    "print('F1 Score: %.3f' % score)"
   ]
  },
  {
   "cell_type": "code",
   "execution_count": null,
   "id": "5d9be336",
   "metadata": {},
   "outputs": [],
   "source": [
    "# scatter plot of data by class label\n",
    "for label, _ in counter.items():\n",
    "    row_ix = where(y == label)[0]\n",
    "    plt.scatter(X[row_ix, 0], X[row_ix, 1], label=str(label))\n",
    "plt.legend()\n",
    "plt.show()"
   ]
  },
  {
   "cell_type": "code",
   "execution_count": null,
   "id": "6d6082a2",
   "metadata": {},
   "outputs": [],
   "source": [
    "cv_scores = cross_val_score(lsvc, X_train, y_train, cv=10)\n",
    "print(\"CV average score: %.2f\" % cv_scores.mean())"
   ]
  },
  {
   "cell_type": "code",
   "execution_count": 76,
   "id": "556e39a7",
   "metadata": {},
   "outputs": [
    {
     "name": "stdout",
     "output_type": "stream",
     "text": [
      "[[   0 1140  638]\n",
      " [   0    0    0]\n",
      " [   0    0    0]]\n"
     ]
    }
   ],
   "source": [
    "# Try SVM\n",
    "ypred = model.predict(X_test)\n",
    "\n",
    "cm = confusion_matrix(y_test, ypred)\n",
    "print(cm)\n"
   ]
  },
  {
   "cell_type": "code",
   "execution_count": null,
   "id": "1e5bdc9c",
   "metadata": {},
   "outputs": [],
   "source": [
    "# classification_report\n",
    "cr = classification_report(y_test, ypred)\n",
    "print(cr)"
   ]
  },
  {
   "cell_type": "code",
   "execution_count": null,
   "id": "319b2697",
   "metadata": {},
   "outputs": [],
   "source": []
  }
 ],
 "metadata": {
  "kernelspec": {
   "display_name": "Python 3 (ipykernel)",
   "language": "python",
   "name": "python3"
  },
  "language_info": {
   "codemirror_mode": {
    "name": "ipython",
    "version": 3
   },
   "file_extension": ".py",
   "mimetype": "text/x-python",
   "name": "python",
   "nbconvert_exporter": "python",
   "pygments_lexer": "ipython3",
   "version": "3.8.10"
  }
 },
 "nbformat": 4,
 "nbformat_minor": 5
}
